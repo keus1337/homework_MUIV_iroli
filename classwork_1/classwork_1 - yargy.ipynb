{
 "cells": [
  {
   "cell_type": "code",
   "execution_count": 1,
   "metadata": {},
   "outputs": [],
   "source": [
    "import warnings\n",
    "warnings.filterwarnings(\"ignore\")"
   ]
  },
  {
   "cell_type": "markdown",
   "metadata": {},
   "source": [
    "!pip install yargy"
   ]
  },
  {
   "cell_type": "code",
   "execution_count": 2,
   "metadata": {},
   "outputs": [],
   "source": [
    "from yargy import Parser, rule, and_, not_\n",
    "from yargy.interpretation import fact\n",
    "from yargy.predicates import gram\n",
    "from yargy.relations import gnc_relation\n",
    "from yargy.pipelines import morph_pipeline"
   ]
  },
  {
   "cell_type": "markdown",
   "metadata": {},
   "source": [
    "from yargy import Parser, rule, and_, not_\n",
    "from yargy.interpretation import fact\n",
    "from yargy.predicates import gram\n",
    "from yargy.relations import gnc_relation\n",
    "from yargy.pipelines import morph_pipeline"
   ]
  },
  {
   "cell_type": "code",
   "execution_count": 3,
   "metadata": {},
   "outputs": [],
   "source": [
    "Name = fact(\n",
    "    'Name',\n",
    "    ['first', 'last'],\n",
    ")\n",
    "Person = fact(\n",
    "    'Person',\n",
    "    ['position', 'name']\n",
    ")\n",
    "\n",
    "LAST = and_(\n",
    "    gram('Surn'),\n",
    "    not_(gram('Abbr')),\n",
    ")\n",
    "FIRST = and_(\n",
    "    gram('Name'),\n",
    "    not_(gram('Abbr')),\n",
    ")\n",
    "\n",
    "POSITION = morph_pipeline([\n",
    "    'разработчик',\n",
    "    'программист'\n",
    "])\n",
    "\n",
    "gnc = gnc_relation()\n",
    "NAME = rule(\n",
    "    FIRST.interpretation(\n",
    "        Name.first\n",
    "    ).match(gnc),\n",
    "    LAST.interpretation(\n",
    "        Name.last\n",
    "    ).match(gnc)\n",
    ").interpretation(\n",
    "    Name\n",
    ")\n",
    "\n",
    "PERSON = rule(\n",
    "    POSITION.interpretation(\n",
    "        Person.position\n",
    "    ).match(gnc),\n",
    "    NAME.interpretation(\n",
    "        Person.name\n",
    "    )\n",
    ").interpretation(\n",
    "    Person\n",
    ")"
   ]
  },
  {
   "cell_type": "code",
   "execution_count": 4,
   "metadata": {},
   "outputs": [],
   "source": [
    "parser = Parser(PERSON)"
   ]
  },
  {
   "cell_type": "code",
   "execution_count": 5,
   "metadata": {},
   "outputs": [
    {
     "name": "stdout",
     "output_type": "stream",
     "text": [
      "Match(tokens=[MorphToken(value='разработчик', span=[0, 11), type='RU', forms=[Form('разработчик', Grams(NOUN,anim,masc,nomn,sing))]), MorphToken(value='Дмитрий', span=[12, 19), type='RU', forms=[Form('дмитрий', Grams(NOUN,Name,anim,masc,nomn,sing))]), MorphToken(value='Еськов', span=[20, 26), type='RU', forms=[Form('еськов', Grams(NOUN,Sgtm,Surn,anim,masc,nomn,sing))])], span=[0, 26))\n"
     ]
    }
   ],
   "source": [
    "match = parser.match('разработчик Дмитрий Еськов')\n",
    "print(match)"
   ]
  },
  {
   "cell_type": "code",
   "execution_count": 6,
   "metadata": {},
   "outputs": [],
   "source": [
    "with open('20150618muchoojo.txt', 'r', encoding='utf-8') as f:\n",
    "    text = f.read()"
   ]
  },
  {
   "cell_type": "code",
   "execution_count": 7,
   "metadata": {},
   "outputs": [
    {
     "name": "stdout",
     "output_type": "stream",
     "text": [
      "['разработчик', 'Дмитрий', 'Еськов']\n",
      "['программист', 'Николай', 'Тарасенко']\n"
     ]
    }
   ],
   "source": [
    "for match in parser.findall(text):\n",
    "    print([_.value for _ in match.tokens])"
   ]
  },
  {
   "cell_type": "code",
   "execution_count": 8,
   "metadata": {},
   "outputs": [],
   "source": [
    "from ipymarkup import show_span_box_markup as show_markup"
   ]
  },
  {
   "cell_type": "code",
   "execution_count": 9,
   "metadata": {},
   "outputs": [
    {
     "data": {
      "text/plain": [
       "[[8, 34), [122, 151)]"
      ]
     },
     "execution_count": 9,
     "metadata": {},
     "output_type": "execute_result"
    }
   ],
   "source": [
    "matches = parser.findall(text)\n",
    "spans = [_.span for _ in matches]\n",
    "spans"
   ]
  },
  {
   "cell_type": "code",
   "execution_count": 10,
   "metadata": {},
   "outputs": [
    {
     "data": {
      "text/plain": [
       "'Молодой разработчик Дмитрий Еськов написал свою книгу по гейм дизайну и стал учителем для многих программистов. Например, программист Николай Тарасенко, используя труды Еськова создал один из популярнейших продуктов на Российском рынке.'"
      ]
     },
     "execution_count": 10,
     "metadata": {},
     "output_type": "execute_result"
    }
   ],
   "source": [
    "text[:]"
   ]
  },
  {
   "cell_type": "code",
   "execution_count": 11,
   "metadata": {},
   "outputs": [
    {
     "data": {
      "text/html": [
       "<div class=\"tex2jax_ignore\" style=\"white-space: pre-wrap\">Молодой <span style=\"padding: 2px; border-radius: 4px; border: 1px solid #bbdefb; background: #e3f2fd\">разработчик Дмитрий Еськов</span> написал свою книгу по гейм дизайну и стал учителем для многих программистов. Например, <span style=\"padding: 2px; border-radius: 4px; border: 1px solid #bbdefb; background: #e3f2fd\">программист Николай Тарасенко</span>, используя труды Еськова создал один из популярнейших продуктов на Российском рынке.</div>"
      ],
      "text/plain": [
       "<IPython.core.display.HTML object>"
      ]
     },
     "metadata": {},
     "output_type": "display_data"
    }
   ],
   "source": [
    "show_markup(text, spans)"
   ]
  }
 ],
 "metadata": {
  "kernelspec": {
   "display_name": "venv",
   "language": "python",
   "name": "python3"
  },
  "language_info": {
   "codemirror_mode": {
    "name": "ipython",
    "version": 3
   },
   "file_extension": ".py",
   "mimetype": "text/x-python",
   "name": "python",
   "nbconvert_exporter": "python",
   "pygments_lexer": "ipython3",
   "version": "3.11.0"
  }
 },
 "nbformat": 4,
 "nbformat_minor": 2
}
